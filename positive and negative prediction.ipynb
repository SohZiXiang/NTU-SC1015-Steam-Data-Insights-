{
 "cells":[
  {
   "cell_type":"code",
   "source":[
    "# Basic Libraries\n",
    "import numpy as np\n",
    "import pandas as pd\n",
    "import seaborn as sb\n",
    "import matplotlib.pyplot as plt\n",
    "from sklearn.linear_model import LinearRegression\n",
    "from sklearn.model_selection import train_test_split, cross_val_score\n",
    "from sklearn.metrics import mean_squared_error\n",
    "sb.set()\n",
    "\n",
    "# Load Data\n",
    "steam_data = pd.read_csv('games.csv')"
   ],
   "execution_count":44,
   "outputs":[
    
   ],
   "metadata":{
    "datalore":{
     "node_id":"9jvaECkjOwS4dIpV7m8zjT",
     "type":"CODE",
     "hide_input_from_viewers":false,
     "hide_output_from_viewers":false,
     "report_properties":{
      "rowId":"CUX2vVkRM3Inukuj57Ia3f"
     }
    }
   }
  },
  {
   "cell_type":"markdown",
   "source":[
    "#### Variable selection"
   ],
   "attachments":{
    
   },
   "metadata":{
    "datalore":{
     "node_id":"GeoEWEQ73d1oenNXOoysjM",
     "type":"MD",
     "hide_input_from_viewers":true,
     "hide_output_from_viewers":true
    }
   }
  },
  {
   "cell_type":"code",
   "source":[
    "# Data Preprocessing\n",
    "# Convert 'Release date' to datetime, extract the year, and calculate the game's age\n",
    "current_year = pd.to_datetime('today').year\n",
    "steam_data['Release date'] = pd.to_datetime(steam_data['Release date'], errors='coerce')\n",
    "steam_data['Game Age'] = current_year - steam_data['Release date'].dt.year\n",
    "\n",
    "\n",
    "# Feature Selection\n",
    "features = ['Price', 'DLC count', 'Metacritic score', 'User score', 'Achievements', 'Game Age']"
   ],
   "execution_count":45,
   "outputs":[
    
   ],
   "metadata":{
    "datalore":{
     "node_id":"R65kRBgrqkLP98mLLwTRl2",
     "type":"CODE",
     "hide_input_from_viewers":true,
     "hide_output_from_viewers":true
    }
   }
  },
  {
   "cell_type":"markdown",
   "source":[
    "#### Decision Tree Classification"
   ],
   "attachments":{
    
   },
   "metadata":{
    "datalore":{
     "node_id":"hYdKbS5uxrT3H8IUJX4c7F",
     "type":"MD",
     "hide_input_from_viewers":true,
     "hide_output_from_viewers":true
    }
   }
  },
  {
   "cell_type":"code",
   "source":[
    "from sklearn.tree import DecisionTreeClassifier\n",
    "from sklearn.metrics import classification_report, accuracy_score\n",
    "\n",
    "# Target Variable Creation\n",
    "# 'Positive Above Median' is 1 if the count of positive reviews is above the median, 0 otherwise\n",
    "# 'Negative Above Median' is 1 if the count of negative reviews is above the median, 0 otherwise\n",
    "median_positive = steam_data['Positive'].median()\n",
    "median_negative = steam_data['Negative'].median()\n",
    "\n",
    "steam_data['Positive Above Median'] = (steam_data['Positive'] > median_positive).astype(int)\n",
    "steam_data['Negative Above Median'] = (steam_data['Negative'] > median_negative).astype(int)\n",
    "\n",
    "# Feature and Target Preparation\n",
    "# 'X' contains the independent variables\/features selected for prediction\n",
    "# 'y_pos_binary' and 'y_neg_binary' are the binary target variables for positive and negative reviews\n",
    "X = steam_data[features]\n",
    "y_pos_binary = steam_data['Positive Above Median']\n",
    "y_neg_binary = steam_data['Negative Above Median']\n",
    "\n",
    "# Data Splitting\n",
    "# Split the dataset into training and testing sets for both positive and negative reviews\n",
    "X_train_pos, X_test_pos, y_train_pos, y_test_pos = train_test_split(X, y_pos_binary, test_size=0.2, random_state=42)\n",
    "X_train_neg, X_test_neg, y_train_neg, y_test_neg = train_test_split(X, y_neg_binary, test_size=0.2, random_state=42)\n",
    "\n",
    "# Model Training\n",
    "# Train a Decision Tree Classifier on the training data for predicting positive reviews\n",
    "clf_pos = DecisionTreeClassifier(random_state=42)\n",
    "clf_pos.fit(X_train_pos, y_train_pos)\n",
    "\n",
    "# Train a Decision Tree Classifier on the training data for predicting negative reviews\n",
    "clf_neg = DecisionTreeClassifier(random_state=42)\n",
    "clf_neg.fit(X_train_neg, y_train_neg)\n",
    "\n",
    "# Prediction Phase\n",
    "# Predict the binary classification of reviews on the test data\n",
    "y_pred_pos_binary = clf_pos.predict(X_test_pos)\n",
    "y_pred_neg_binary = clf_neg.predict(X_test_neg)\n",
    "\n",
    "# Model Evaluation\n",
    "# Evaluate and print the accuracy and classification report for the positive review predictions\n",
    "accuracy_pos = accuracy_score(y_test_pos, y_pred_pos_binary)\n",
    "report_pos = classification_report(y_test_pos, y_pred_pos_binary)\n",
    "print(f'Accuracy for Positive Reviews: {accuracy_pos}')\n",
    "print(f'Classification Report for Positive Reviews:\\n{report_pos}')\n",
    "\n",
    "# Evaluate and print the accuracy and classification report for the negative review predictions\n",
    "accuracy_neg = accuracy_score(y_test_neg, y_pred_neg_binary)\n",
    "report_neg = classification_report(y_test_neg, y_pred_neg_binary)\n",
    "print(f'Accuracy for Negative Reviews: {accuracy_neg}')\n",
    "print(f'Classification Report for Negative Reviews:\\n{report_neg}')"
   ],
   "execution_count":46,
   "outputs":[
    {
     "name":"stdout",
     "text":[
      "Accuracy for Positive Reviews: 0.7296281064567299\n",
      "Classification Report for Positive Reviews:\n",
      "              precision    recall  f1-score   support\n",
      "\n",
      "           0       0.71      0.80      0.75      8760\n",
      "           1       0.76      0.65      0.70      8261\n",
      "\n",
      "    accuracy                           0.73     17021\n",
      "   macro avg       0.73      0.73      0.73     17021\n",
      "weighted avg       0.73      0.73      0.73     17021\n",
      "\n",
      "Accuracy for Negative Reviews: 0.7570648023030374\n",
      "Classification Report for Negative Reviews:\n",
      "              precision    recall  f1-score   support\n",
      "\n",
      "           0       0.76      0.82      0.79      9393\n",
      "           1       0.75      0.68      0.71      7628\n",
      "\n",
      "    accuracy                           0.76     17021\n",
      "   macro avg       0.76      0.75      0.75     17021\n",
      "weighted avg       0.76      0.76      0.76     17021\n",
      "\n"
     ],
     "output_type":"stream"
    }
   ],
   "metadata":{
    "datalore":{
     "node_id":"pNbuJSfa1bkumCq3iZr7rh",
     "type":"CODE",
     "hide_input_from_viewers":false,
     "hide_output_from_viewers":false,
     "report_properties":{
      "rowId":"pQVkB9HnO2HlPHUqC1Dupw"
     }
    }
   }
  },
  {
   "cell_type":"markdown",
   "source":[
    "Accuracy: 72.96%\n",
    "This means that about 72.96% of the time, the model correctly predicts whether a review is above (1) or below (0) the median count of positive reviews\n",
    "\n",
    "Precision (for class 0 is 0.71, for class 1 is 0.76):\n",
    "Precision tells you the accuracy of positive predictions. For example, when the model predicts a review is below the median (class 0), it is correct 71% of the time. When it predicts above the median (class 1), it is correct 76% of the time.\n",
    "\n",
    "Recall (for class 0 is 0.80, for class 1 is 0.65):\n",
    "Recall indicates the ability of the model to find all the relevant cases within a dataset. For instance, the model identifies 80% of the actual below-median reviews (class 0) and 65% of the above-median reviews (class 1).\n",
    "\n",
    "F1-Score (for class 0 is 0.75, for class 1 is 0.70):\n",
    "The F1 score is a harmonic mean of precision and recall, providing a balance between the two. It's particularly useful when the class distribution is uneven. A higher F1 score indicates a better balance between precision and recall.\n",
    "\n",
    "Support:\n",
    "This is the number of actual occurrences of the class in the specified dataset. For class 0, there are 8760 instances, and for class 1, there are 8261 instances."
   ],
   "attachments":{
    
   },
   "metadata":{
    "datalore":{
     "node_id":"TTL97lmnUm9TLYQ6MRwnAL",
     "type":"MD",
     "hide_input_from_viewers":true,
     "hide_output_from_viewers":true
    }
   }
  },
  {
   "cell_type":"code",
   "source":[
    "from sklearn.metrics import confusion_matrix\n",
    "\n",
    "def plot_confusion_matrix(y_true, y_pred, classes, title, model_label):\n",
    "    # Calculate confusion matrix\n",
    "    cm = confusion_matrix(y_true, y_pred)\n",
    "    \n",
    "    # Assigning TP, FP, FN, and TN from the confusion matrix\n",
    "    TN, FP, FN, TP = cm.ravel()\n",
    "    \n",
    "    # Normalizing confusion matrix for display\n",
    "    cm_normalized = cm.astype('float') \/ cm.sum(axis=1)[:, np.newaxis]\n",
    "    sb.heatmap(cm_normalized, annot=True, fmt='.2f', cmap='Blues', xticklabels=classes, yticklabels=classes)\n",
    "    plt.title(f\"{title} - {model_label}\")\n",
    "    plt.ylabel('Actual Label')\n",
    "    plt.xlabel('Predicted Label')\n",
    "\n",
    "    # Printing the results with model indication\n",
    "    print(f\"Model: {model_label}\")\n",
    "    print(f\"True Positives (TP) for '{classes[1]}': {TP}\")\n",
    "    print(f\"True Negatives (TN) for '{classes[0]}': {TN}\")\n",
    "    print(f\"False Positives (FP) for '{classes[0]}': {FP}\")\n",
    "    print(f\"False Negatives (FN) for '{classes[1]}': {FN}\")\n",
    "    print(f\"True Positive Rate (Recall) for '{classes[1]}': {TP \/ (TP + FN):.2f}\")\n",
    "    print(f\"True Negative Rate for '{classes[0]}': {TN \/ (TN + FP):.2f}\")\n",
    "    plt.show()\n",
    "\n",
    "# Visualization of Confusion Matrix with Counts for Positive Reviews\n",
    "plot_confusion_matrix(y_test_pos, y_pred_pos_binary, ['Below Median', 'Above Median'], 'Confusion Matrix', 'Positive Reviews Model')\n",
    "\n",
    "# Visualization of Confusion Matrix with Counts for Negative Reviews\n",
    "plot_confusion_matrix(y_test_neg, y_pred_neg_binary, ['Below Median', 'Above Median'], 'Confusion Matrix', 'Negative Reviews Model')"
   ],
   "execution_count":47,
   "outputs":[
    {
     "name":"stdout",
     "text":[
      "Model: Positive Reviews Model\n",
      "True Positives (TP) for 'Above Median': 5377\n",
      "True Negatives (TN) for 'Below Median': 7042\n",
      "False Positives (FP) for 'Below Median': 1718\n",
      "False Negatives (FN) for 'Above Median': 2884\n",
      "True Positive Rate (Recall) for 'Above Median': 0.65\n",
      "True Negative Rate for 'Below Median': 0.80\n",
      "Model: Negative Reviews Model\n",
      "True Positives (TP) for 'Above Median': 5174\n",
      "True Negatives (TN) for 'Below Median': 7712\n",
      "False Positives (FP) for 'Below Median': 1681\n",
      "False Negatives (FN) for 'Above Median': 2454\n",
      "True Positive Rate (Recall) for 'Above Median': 0.68\n",
      "True Negative Rate for 'Below Median': 0.82\n"
     ],
     "output_type":"stream"
    },
    {
     "data":{
      "image\/png":"[encoded data removed]"
     },
     "metadata":{
      "image\/png":{
       
      }
     },
     "output_type":"display_data"
    },
    {
     "data":{
      "image\/png":"[encoded data removed]"
     },
     "metadata":{
      "image\/png":{
       
      }
     },
     "output_type":"display_data"
    }
   ],
   "metadata":{
    "datalore":{
     "node_id":"IRNupemUg9M6TyFAlY9kJv",
     "type":"CODE",
     "hide_input_from_viewers":true,
     "hide_output_from_viewers":true
    }
   }
  },
  {
   "cell_type":"markdown",
   "source":[
    "Both models are performing moderately well, with the model for negative reviews slightly outperforming the model for positive reviews in terms of recall and the true negative rate.\n",
    "\n",
    "However, both models have a significant number of false negatives, indicating that they might be too conservative and miss identifying some above-median reviews."
   ],
   "attachments":{
    
   },
   "metadata":{
    "datalore":{
     "node_id":"PNM3QCTjaHKz5MF2GH3086",
     "type":"MD",
     "hide_input_from_viewers":true,
     "hide_output_from_viewers":true
    }
   }
  },
  {
   "cell_type":"markdown",
   "source":[
    "#### Saving the model"
   ],
   "attachments":{
    
   },
   "metadata":{
    "datalore":{
     "node_id":"yd6X2ikNlPmGBT0mPjysqr",
     "type":"MD",
     "hide_input_from_viewers":true,
     "hide_output_from_viewers":true
    }
   }
  },
  {
   "cell_type":"code",
   "source":[
    "import joblib\n",
    "\n",
    "# Save the models\n",
    "joblib.dump(clf_pos, 'decision_tree_pos_model.joblib')\n",
    "joblib.dump(clf_neg, 'decision_tree_neg_model.joblib')"
   ],
   "execution_count":48,
   "outputs":[
    {
     "data":{
      "text\/plain":[
       "['decision_tree_neg_model.joblib']"
      ]
     },
     "metadata":{
      
     },
     "output_type":"display_data"
    }
   ],
   "metadata":{
    "datalore":{
     "node_id":"yn0NSJdJqE1ZIcwDOgt5As",
     "type":"CODE",
     "hide_input_from_viewers":false,
     "hide_output_from_viewers":false,
     "report_properties":{
      "rowId":"DR1A1pEoC1S8zaACJKnhnx"
     }
    }
   }
  },
  {
   "cell_type":"markdown",
   "source":[
    "#### If we launch 10 games, based on the model:"
   ],
   "attachments":{
    
   },
   "metadata":{
    "datalore":{
     "node_id":"lYbQvt2BteLqfG95l2bBFv",
     "type":"MD",
     "hide_input_from_viewers":true,
     "hide_output_from_viewers":true
    }
   }
  },
  {
   "cell_type":"code",
   "source":[
    "# Load your new data\n",
    "new_data = pd.read_csv('sample.csv')\n",
    "\n",
    "# Data Preprocessing\n",
    "# Convert 'Release date' to datetime, extract the year, and calculate the game's age\n",
    "current_year = pd.to_datetime('today').year\n",
    "new_data['Release date'] = pd.to_datetime(steam_data['Release date'], errors='coerce')\n",
    "new_data['Game Age'] = current_year - steam_data['Release date'].dt.year\n",
    "\n",
    "\n",
    "# Train set medians\n",
    "median_positive = steam_data['Positive'].median()\n",
    "median_negative = steam_data['Negative'].median()\n",
    "print(f\"Median Positive Reviews from steam_data: {median_positive}\")\n",
    "print(f\"Median Negative Reviews from steam_data: {median_negative}\")\n",
    "      \n",
    "# List of features used by the model\n",
    "features = ['Price', 'DLC count', 'Metacritic score', 'User score', 'Achievements', 'Game Age']\n",
    "\n",
    "# Check if all features are in the new data\n",
    "missing_features = [f for f in features if f not in new_data.columns]\n",
    "if missing_features:\n",
    "    print(\"Missing features:\", missing_features)\n",
    "else:\n",
    "    print(\"All features are present from new_data.\")\n",
    "\n",
    "    \n",
    "print()\n",
    "try:\n",
    "    new_data['Predicted Positive Review'] = clf_pos.predict(new_data[features])\n",
    "    new_data['Predicted Negative Review'] = clf_neg.predict(new_data[features])\n",
    "    print(\"Predictions added to new_data dataframe.\")\n",
    "except Exception as e:\n",
    "    print(\"Error occurred during prediction:\", str(e))\n",
    "\n",
    "\n",
    "    \n",
    "print()    \n",
    "# Display predictions\n",
    "#print(new_data[['Predicted Positive Review', 'Predicted Negative Review']])\n",
    "\n",
    "# Update the predictions with descriptive labels\n",
    "new_data['Predicted Positive Review'] = new_data['Predicted Positive Review'].map({1: 'Above Median', 0: 'Below Median'})\n",
    "new_data['Predicted Negative Review'] = new_data['Predicted Negative Review'].map({1: 'Above Median', 0: 'Below Median'})\n",
    "\n",
    "# Display the updated dataframe with descriptive labels for predictions\n",
    "new_data[['Name','Predicted Positive Review','Predicted Negative Review','Release date','Game Age','Price','DLC count','Metacritic score','User score','Achievements',]]"
   ],
   "execution_count":49,
   "outputs":[
    {
     "name":"stdout",
     "text":[
      "Median Positive Reviews from steam_data: 7.0\n",
      "Median Negative Reviews from steam_data: 2.0\n",
      "All features are present from new_data.\n",
      "\n",
      "Predictions added to new_data dataframe.\n",
      "\n"
     ],
     "output_type":"stream"
    },
    {
     "data":{
      "text\/html":[
       "<div>\n",
       "<style scoped>\n",
       "    .dataframe tbody tr th:only-of-type {\n",
       "        vertical-align: middle;\n",
       "    }\n",
       "\n",
       "    .dataframe tbody tr th {\n",
       "        vertical-align: top;\n",
       "    }\n",
       "\n",
       "    .dataframe thead th {\n",
       "        text-align: right;\n",
       "    }\n",
       "<\/style>\n",
       "<table border=\"1\" class=\"dataframe\">\n",
       "  <thead>\n",
       "    <tr style=\"text-align: right;\">\n",
       "      <th><\/th>\n",
       "      <th>Name<\/th>\n",
       "      <th>Predicted Positive Review<\/th>\n",
       "      <th>Predicted Negative Review<\/th>\n",
       "      <th>Release date<\/th>\n",
       "      <th>Game Age<\/th>\n",
       "      <th>Price<\/th>\n",
       "      <th>DLC count<\/th>\n",
       "      <th>Metacritic score<\/th>\n",
       "      <th>User score<\/th>\n",
       "      <th>Achievements<\/th>\n",
       "    <\/tr>\n",
       "  <\/thead>\n",
       "  <tbody>\n",
       "    <tr>\n",
       "      <th>0<\/th>\n",
       "      <td>Game A<\/td>\n",
       "      <td>Above Median<\/td>\n",
       "      <td>Above Median<\/td>\n",
       "      <td>2008-10-21<\/td>\n",
       "      <td>16<\/td>\n",
       "      <td>19.99<\/td>\n",
       "      <td>2<\/td>\n",
       "      <td>85<\/td>\n",
       "      <td>8.0<\/td>\n",
       "      <td>30<\/td>\n",
       "    <\/tr>\n",
       "    <tr>\n",
       "      <th>1<\/th>\n",
       "      <td>Game B<\/td>\n",
       "      <td>Above Median<\/td>\n",
       "      <td>Above Median<\/td>\n",
       "      <td>2017-10-12<\/td>\n",
       "      <td>7<\/td>\n",
       "      <td>29.99<\/td>\n",
       "      <td>5<\/td>\n",
       "      <td>90<\/td>\n",
       "      <td>9.0<\/td>\n",
       "      <td>45<\/td>\n",
       "    <\/tr>\n",
       "    <tr>\n",
       "      <th>2<\/th>\n",
       "      <td>Game C<\/td>\n",
       "      <td>Below Median<\/td>\n",
       "      <td>Below Median<\/td>\n",
       "      <td>2021-11-17<\/td>\n",
       "      <td>3<\/td>\n",
       "      <td>0.00<\/td>\n",
       "      <td>0<\/td>\n",
       "      <td>60<\/td>\n",
       "      <td>7.0<\/td>\n",
       "      <td>10<\/td>\n",
       "    <\/tr>\n",
       "    <tr>\n",
       "      <th>3<\/th>\n",
       "      <td>Game D<\/td>\n",
       "      <td>Above Median<\/td>\n",
       "      <td>Above Median<\/td>\n",
       "      <td>2020-07-23<\/td>\n",
       "      <td>4<\/td>\n",
       "      <td>15.99<\/td>\n",
       "      <td>3<\/td>\n",
       "      <td>88<\/td>\n",
       "      <td>8.5<\/td>\n",
       "      <td>50<\/td>\n",
       "    <\/tr>\n",
       "    <tr>\n",
       "      <th>4<\/th>\n",
       "      <td>Game E<\/td>\n",
       "      <td>Above Median<\/td>\n",
       "      <td>Above Median<\/td>\n",
       "      <td>2020-02-03<\/td>\n",
       "      <td>4<\/td>\n",
       "      <td>59.99<\/td>\n",
       "      <td>10<\/td>\n",
       "      <td>92<\/td>\n",
       "      <td>9.5<\/td>\n",
       "      <td>60<\/td>\n",
       "    <\/tr>\n",
       "    <tr>\n",
       "      <th>5<\/th>\n",
       "      <td>Game F<\/td>\n",
       "      <td>Above Median<\/td>\n",
       "      <td>Below Median<\/td>\n",
       "      <td>2021-02-26<\/td>\n",
       "      <td>3<\/td>\n",
       "      <td>24.99<\/td>\n",
       "      <td>1<\/td>\n",
       "      <td>82<\/td>\n",
       "      <td>8.2<\/td>\n",
       "      <td>15<\/td>\n",
       "    <\/tr>\n",
       "    <tr>\n",
       "      <th>6<\/th>\n",
       "      <td>Game G<\/td>\n",
       "      <td>Above Median<\/td>\n",
       "      <td>Above Median<\/td>\n",
       "      <td>2022-01-09<\/td>\n",
       "      <td>2<\/td>\n",
       "      <td>34.99<\/td>\n",
       "      <td>0<\/td>\n",
       "      <td>65<\/td>\n",
       "      <td>6.5<\/td>\n",
       "      <td>0<\/td>\n",
       "    <\/tr>\n",
       "    <tr>\n",
       "      <th>7<\/th>\n",
       "      <td>Game H<\/td>\n",
       "      <td>Above Median<\/td>\n",
       "      <td>Above Median<\/td>\n",
       "      <td>2022-05-05<\/td>\n",
       "      <td>2<\/td>\n",
       "      <td>0.99<\/td>\n",
       "      <td>2<\/td>\n",
       "      <td>88<\/td>\n",
       "      <td>8.8<\/td>\n",
       "      <td>30<\/td>\n",
       "    <\/tr>\n",
       "    <tr>\n",
       "      <th>8<\/th>\n",
       "      <td>Game I<\/td>\n",
       "      <td>Above Median<\/td>\n",
       "      <td>Above Median<\/td>\n",
       "      <td>2020-04-02<\/td>\n",
       "      <td>4<\/td>\n",
       "      <td>9.99<\/td>\n",
       "      <td>1<\/td>\n",
       "      <td>54<\/td>\n",
       "      <td>5.4<\/td>\n",
       "      <td>20<\/td>\n",
       "    <\/tr>\n",
       "    <tr>\n",
       "      <th>9<\/th>\n",
       "      <td>Game J<\/td>\n",
       "      <td>Above Median<\/td>\n",
       "      <td>Above Median<\/td>\n",
       "      <td>2014-11-11<\/td>\n",
       "      <td>10<\/td>\n",
       "      <td>44.99<\/td>\n",
       "      <td>4<\/td>\n",
       "      <td>78<\/td>\n",
       "      <td>7.8<\/td>\n",
       "      <td>25<\/td>\n",
       "    <\/tr>\n",
       "  <\/tbody>\n",
       "<\/table>\n",
       "<\/div>"
      ]
     },
     "metadata":{
      
     },
     "output_type":"display_data"
    }
   ],
   "metadata":{
    "datalore":{
     "node_id":"mLpLB1WOMb3sRcn4sZhUQF",
     "type":"CODE",
     "hide_input_from_viewers":false,
     "hide_output_from_viewers":false,
     "report_properties":{
      "rowId":"8mpO2auw7GiQVMhL9G55rK"
     }
    }
   }
  },
  {
   "cell_type":"markdown",
   "source":[
    "Predicted Positive Review 'Above Median': This suggests that the game is expected to have more positive reviews than the median game in the training dataset.\n",
    "\n",
    "Predicted Negative Review 'Above Median': On the other hand, a prediction that a game will have more negative reviews than the median could be a negative indicator.\n",
    "\n",
    "\n",
    "**Game F** is an example that fits this description. It is predicted to have:\n",
    "\n",
    "Positive Reviews 'Above Median': Suggesting it is expected to have a higher number of positive reviews compared to the median game, which can be indicative of good reception or quality.\n",
    "\n",
    "Negative Reviews 'Below Median': Indicating that it is expected to have fewer negative reviews than the median, suggesting fewer complaints or issues perceived by players."
   ],
   "attachments":{
    
   },
   "metadata":{
    "datalore":{
     "node_id":"nZl5zp0rmZuvwCMQ25rkeA",
     "type":"MD",
     "hide_input_from_viewers":true,
     "hide_output_from_viewers":true
    }
   }
  },
  {
   "cell_type":"markdown",
   "source":[
    "#### Random Forest to determine the importance of the feature:\n",
    "\n",
    "Training: When the Random Forest is trained on a dataset, it randomly selects subsets of features and data points to build each tree. This randomness helps to make the model robust and prevent overfitting.\n",
    "\n",
    "Feature Importances Calculation: The importance of a feature is measured by looking at how much the tree nodes that use that feature reduce impurity across all trees in the forest. The impurity decrease from each feature can be averaged and the features are ranked according to this measure. This is the model's way of \"voting\" for the most iFnformative features.\n",
    "\n",
    "Normalization: These importance scores are then normalized so that the sum of all scores is equal to 1."
   ],
   "attachments":{
    
   },
   "metadata":{
    "datalore":{
     "node_id":"8k98AfMyQvHoX7gQu6fzPN",
     "type":"MD",
     "hide_input_from_viewers":false,
     "hide_output_from_viewers":false,
     "report_properties":{
      "rowId":"Kkk2ba9b8CRRL8l4vUck5c"
     }
    }
   }
  },
  {
   "cell_type":"code",
   "source":[
    "from sklearn.impute import SimpleImputer\n",
    "from sklearn.ensemble import RandomForestClassifier\n",
    "from sklearn.model_selection import train_test_split\n",
    "import numpy as np\n",
    "import matplotlib.pyplot as plt\n",
    "\n",
    "# Impute missing values\n",
    "imputer = SimpleImputer(strategy='median')\n",
    "X_imputed = imputer.fit_transform(steam_data[features])\n",
    "y = steam_data['Positive Above Median']  # Assuming this target variable is already defined and has no missing values\n",
    "\n",
    "# Split the data into training and testing sets\n",
    "X_train, X_test, y_train, y_test = train_test_split(X_imputed, y, test_size=0.2, random_state=42)\n",
    "\n",
    "# Train the Random Forest model\n",
    "forest = RandomForestClassifier(n_estimators=100, random_state=42)\n",
    "forest.fit(X_train, y_train)\n",
    "\n",
    "# Get feature importances\n",
    "importances = forest.feature_importances_\n",
    "\n",
    "# Plot feature importances\n",
    "plt.figure(figsize=(10, 6))\n",
    "feature_names = features\n",
    "indices = np.argsort(importances)[::-1]\n",
    "plt.title('Feature Importances')\n",
    "plt.bar(range(X_train.shape[1]), importances[indices], align='center')\n",
    "plt.xticks(range(X_train.shape[1]), [feature_names[i] for i in indices], rotation=90)\n",
    "plt.xlabel('Features')\n",
    "plt.ylabel('Importance')\n",
    "plt.show()"
   ],
   "execution_count":50,
   "outputs":[
    {
     "data":{
      "image\/png":"[encoded data removed]"
     },
     "metadata":{
      "image\/png":{
       
      }
     },
     "output_type":"display_data"
    }
   ],
   "metadata":{
    "datalore":{
     "node_id":"fHpFXm0loSR4WGVRaSG4Xp",
     "type":"CODE",
     "hide_input_from_viewers":false,
     "hide_output_from_viewers":false,
     "report_properties":{
      "rowId":"6dwJXFdEoDMoryKMYlcy3C"
     }
    }
   }
  },
  {
   "cell_type":"markdown",
   "source":[
    "The importance score reflects how much each feature contributes to the model's predictions.\n",
    "\n",
    "The bars represent the importance of each feature. A longer bar means the feature is more important for the model when making predictions.\n",
    "\n",
    "Even if the correlation coefficients are low, the feature importances derived from the model suggest that these features do contribute to the predictive power of the model, although not all equally.\n"
   ],
   "attachments":{
    
   },
   "metadata":{
    "datalore":{
     "node_id":"7nkaVQ3nUJ8C3OQhRT1kis",
     "type":"MD",
     "hide_input_from_viewers":false,
     "hide_output_from_viewers":false,
     "report_properties":{
      "rowId":"mckBXFEZQRQh2l8rOHgAmv"
     }
    }
   }
  }
 ],
 "metadata":{
  "kernelspec":{
   "display_name":"Python",
   "language":"python",
   "name":"python"
  },
  "datalore":{
   "computation_mode":"JUPYTER",
   "package_manager":"pip",
   "base_environment":"default",
   "packages":[
    
   ],
   "report_row_ids":[
    "CUX2vVkRM3Inukuj57Ia3f",
    "pQVkB9HnO2HlPHUqC1Dupw",
    "DR1A1pEoC1S8zaACJKnhnx",
    "8mpO2auw7GiQVMhL9G55rK",
    "Sk1Ee3sXfvFyZNxZLBwH8I",
    "Kkk2ba9b8CRRL8l4vUck5c",
    "6dwJXFdEoDMoryKMYlcy3C",
    "mckBXFEZQRQh2l8rOHgAmv"
   ],
   "version":3
  }
 },
 "nbformat":4,
 "nbformat_minor":4
}